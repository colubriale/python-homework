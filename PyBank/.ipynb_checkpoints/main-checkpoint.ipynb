{
 "cells": [
  {
   "cell_type": "code",
   "execution_count": 1,
   "id": "896a79ca-d103-4ed6-8422-70fca5f65c31",
   "metadata": {},
   "outputs": [
    {
     "data": {
      "text/html": [
       "<div>\n",
       "<style scoped>\n",
       "    .dataframe tbody tr th:only-of-type {\n",
       "        vertical-align: middle;\n",
       "    }\n",
       "\n",
       "    .dataframe tbody tr th {\n",
       "        vertical-align: top;\n",
       "    }\n",
       "\n",
       "    .dataframe thead th {\n",
       "        text-align: right;\n",
       "    }\n",
       "</style>\n",
       "<table border=\"1\" class=\"dataframe\">\n",
       "  <thead>\n",
       "    <tr style=\"text-align: right;\">\n",
       "      <th></th>\n",
       "      <th>Date</th>\n",
       "      <th>Profit/Losses</th>\n",
       "    </tr>\n",
       "  </thead>\n",
       "  <tbody>\n",
       "    <tr>\n",
       "      <th>0</th>\n",
       "      <td>Jan-2010</td>\n",
       "      <td>867884</td>\n",
       "    </tr>\n",
       "    <tr>\n",
       "      <th>1</th>\n",
       "      <td>Feb-2010</td>\n",
       "      <td>984655</td>\n",
       "    </tr>\n",
       "    <tr>\n",
       "      <th>2</th>\n",
       "      <td>Mar-2010</td>\n",
       "      <td>322013</td>\n",
       "    </tr>\n",
       "    <tr>\n",
       "      <th>3</th>\n",
       "      <td>Apr-2010</td>\n",
       "      <td>-69417</td>\n",
       "    </tr>\n",
       "    <tr>\n",
       "      <th>4</th>\n",
       "      <td>May-2010</td>\n",
       "      <td>310503</td>\n",
       "    </tr>\n",
       "  </tbody>\n",
       "</table>\n",
       "</div>"
      ],
      "text/plain": [
       "       Date  Profit/Losses\n",
       "0  Jan-2010         867884\n",
       "1  Feb-2010         984655\n",
       "2  Mar-2010         322013\n",
       "3  Apr-2010         -69417\n",
       "4  May-2010         310503"
      ]
     },
     "execution_count": 1,
     "metadata": {},
     "output_type": "execute_result"
    }
   ],
   "source": [
    "# This is the homework plan\n",
    "# \n",
    "# import required libraries ie path and pandas\n",
    "# read the file from the path\n",
    "# confirm\n",
    "# extractthe no of months from the recourd count\n",
    "# confirm\n",
    "# create a for loop to totalise the profit/losses\n",
    "# confirm it is looping corrwctly ie the count\n",
    "\n",
    "# Set the path\n",
    "\n",
    "import pandas as pd\n",
    "from pathlib import Path\n",
    "\n",
    "# Read in the CSV as a DataFrame\n",
    "csv_path = Path(\"budget_data.csv\")\n",
    "\n",
    "company_profit_loss_csv = pd.read_csv(csv_path)\n",
    "\n",
    "# preview data\n",
    "company_profit_loss_csv.head(5)\n",
    "#company_profit_loss_csv.tail(5)\n"
   ]
  },
  {
   "cell_type": "code",
   "execution_count": 2,
   "id": "61523d24-252e-47c9-ab37-04121174f0e5",
   "metadata": {},
   "outputs": [
    {
     "name": "stdout",
     "output_type": "stream",
     "text": [
      "(86, 2)\n",
      "86\n"
     ]
    }
   ],
   "source": [
    "month_pl_count = company_profit_loss_csv.shape\n",
    "\n",
    "print(f\"{month_pl_count}\")\n",
    "\n",
    "print(f\"{month_pl_count[0]}\")\n"
   ]
  },
  {
   "cell_type": "code",
   "execution_count": 12,
   "id": "98107b0c-e6bc-4a42-8f7f-e060307f596e",
   "metadata": {},
   "outputs": [
    {
     "name": "stdout",
     "output_type": "stream",
     "text": [
      "85 671099 38382578\n"
     ]
    }
   ],
   "source": [
    "#record_count = month_pl_count[0]\n",
    "\n",
    "# print(f\"{month_pl_count[0]}\")\n",
    " \n",
    "# \n",
    "pl_total = 0\n",
    "no_of_records = month_pl_count[0]\n",
    "\n",
    "\n",
    "# assign only the profit/losses data to variavle pnl \n",
    "\n",
    "pnl = company_profit_loss_csv[\"Profit/Losses\"]\n",
    "\n",
    "# print(pnl)\n",
    "# print(pnl[1])\n",
    "\n",
    "for cnt in range(no_of_records) :\n",
    "    pl_total += pnl[cnt]\n",
    "    \n",
    "    if cnt == (no_of_records - 1) :\n",
    "        # printe the last record to confirm its the last record, and print total pnl\n",
    "        print(cnt , pnl[cnt], pl_total)\n",
    "        \n"
   ]
  },
  {
   "cell_type": "code",
   "execution_count": 17,
   "id": "a8ee7b4b-fdba-4a35-b0ac-9d78c26e4ac9",
   "metadata": {},
   "outputs": [
    {
     "name": "stdout",
     "output_type": "stream",
     "text": [
      "-2288.1976744186045\n"
     ]
    }
   ],
   "source": [
    "pl_change_total = 0\n",
    "\n",
    "cnt = 0\n",
    "\n",
    "for cnt in range(no_of_records -1) :\n",
    "    \n",
    "    # pause = input(\"Presss enter to continue\")\n",
    "    \n",
    "    pl_amount = pnl[cnt]\n",
    "    pl_next_amount = pnl[cnt+1]\n",
    "    pl_change = pl_next_amount - pl_amount\n",
    "    pl_change_total += pl_change\n",
    "    \n",
    "    # the four lines above could have been condensed to this this could have been expressed as  \n",
    "    \n",
    "    pl_change_total += pnl[cnt+1] -pnl[cnt]\n",
    "   \n",
    "    # print(cnt)\n",
    "    \n",
    "    if cnt == 84:\n",
    "        pl_average_of_change = pl_change_total / no_of_records\n",
    "        # print(cnt, pnl[cnt + 1])\n",
    "        print( pl_average_of_change )\n",
    "        \n",
    "      \n"
   ]
  },
  {
   "cell_type": "code",
   "execution_count": null,
   "id": "9b3ad7d7-90f7-498a-bdb4-bec0cd44da87",
   "metadata": {},
   "outputs": [],
   "source": []
  },
  {
   "cell_type": "code",
   "execution_count": null,
   "id": "3e22a601-6b96-4e43-8db2-cbab643745b5",
   "metadata": {},
   "outputs": [],
   "source": []
  }
 ],
 "metadata": {
  "kernelspec": {
   "display_name": "dev",
   "language": "python",
   "name": "dev"
  },
  "language_info": {
   "codemirror_mode": {
    "name": "ipython",
    "version": 3
   },
   "file_extension": ".py",
   "mimetype": "text/x-python",
   "name": "python",
   "nbconvert_exporter": "python",
   "pygments_lexer": "ipython3",
   "version": "3.7.10"
  }
 },
 "nbformat": 4,
 "nbformat_minor": 5
}
