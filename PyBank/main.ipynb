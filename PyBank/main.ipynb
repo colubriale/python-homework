{
 "cells": [
  {
   "cell_type": "code",
   "execution_count": 84,
   "id": "896a79ca-d103-4ed6-8422-70fca5f65c31",
   "metadata": {},
   "outputs": [
    {
     "data": {
      "text/html": [
       "<div>\n",
       "<style scoped>\n",
       "    .dataframe tbody tr th:only-of-type {\n",
       "        vertical-align: middle;\n",
       "    }\n",
       "\n",
       "    .dataframe tbody tr th {\n",
       "        vertical-align: top;\n",
       "    }\n",
       "\n",
       "    .dataframe thead th {\n",
       "        text-align: right;\n",
       "    }\n",
       "</style>\n",
       "<table border=\"1\" class=\"dataframe\">\n",
       "  <thead>\n",
       "    <tr style=\"text-align: right;\">\n",
       "      <th></th>\n",
       "      <th>Date</th>\n",
       "      <th>Profit/Losses</th>\n",
       "    </tr>\n",
       "  </thead>\n",
       "  <tbody>\n",
       "    <tr>\n",
       "      <th>0</th>\n",
       "      <td>Jan-2010</td>\n",
       "      <td>867884</td>\n",
       "    </tr>\n",
       "    <tr>\n",
       "      <th>1</th>\n",
       "      <td>Feb-2010</td>\n",
       "      <td>984655</td>\n",
       "    </tr>\n",
       "    <tr>\n",
       "      <th>2</th>\n",
       "      <td>Mar-2010</td>\n",
       "      <td>322013</td>\n",
       "    </tr>\n",
       "    <tr>\n",
       "      <th>3</th>\n",
       "      <td>Apr-2010</td>\n",
       "      <td>-69417</td>\n",
       "    </tr>\n",
       "    <tr>\n",
       "      <th>4</th>\n",
       "      <td>May-2010</td>\n",
       "      <td>310503</td>\n",
       "    </tr>\n",
       "  </tbody>\n",
       "</table>\n",
       "</div>"
      ],
      "text/plain": [
       "       Date  Profit/Losses\n",
       "0  Jan-2010         867884\n",
       "1  Feb-2010         984655\n",
       "2  Mar-2010         322013\n",
       "3  Apr-2010         -69417\n",
       "4  May-2010         310503"
      ]
     },
     "execution_count": 84,
     "metadata": {},
     "output_type": "execute_result"
    }
   ],
   "source": [
    "# This is the homework plan\n",
    "# \n",
    "# import required libraries ie path and pandas\n",
    "# read the file from the path\n",
    "# confirm\n",
    "# extractthe no of months from the recourd count\n",
    "# confirm\n",
    "# create a for loop to totalise the profit/losses\n",
    "# confirm it is looping corrwctly ie the count\n",
    "\n",
    "# Set the path\n",
    "\n",
    "import pandas as pd\n",
    "from pathlib import Path\n",
    "\n",
    "# Read in the CSV as a DataFrame\n",
    "csv_path = Path(\"budget_data.csv\")\n",
    "\n",
    "company_profit_loss_csv = pd.read_csv(csv_path)\n",
    "\n",
    "# preview data\n",
    "company_profit_loss_csv.head(5)\n",
    "#company_profit_loss_csv.tail(5)\n",
    "\n",
    "# the following are just data extraction test points\n",
    "#print(company_profit_loss_csv.iloc[4:5,[1]])\n",
    "#tmp = company_profit_loss_csv.iloc[4:5,[1]]\n",
    "#print(int(tmp[\"Profit/Losses\"]+1))\n",
    "#tmp = company_profit_loss_csv.iloc[4:5,[0]]\n",
    "#print(tmp[\"Date\"])"
   ]
  },
  {
   "cell_type": "code",
   "execution_count": 23,
   "id": "61523d24-252e-47c9-ab37-04121174f0e5",
   "metadata": {},
   "outputs": [
    {
     "name": "stdout",
     "output_type": "stream",
     "text": [
      "(86, 2)\n",
      "86\n"
     ]
    }
   ],
   "source": [
    "# The total number of months included in the dataset.\n",
    "\n",
    "month_pl_count = company_profit_loss_csv.shape\n",
    "\n",
    "print(f\"{month_pl_count}\")\n",
    "\n",
    "print(f\"{month_pl_count[0]}\")\n"
   ]
  },
  {
   "cell_type": "code",
   "execution_count": 79,
   "id": "98107b0c-e6bc-4a42-8f7f-e060307f596e",
   "metadata": {},
   "outputs": [
    {
     "name": "stdout",
     "output_type": "stream",
     "text": [
      "85 671099 38382578\n"
     ]
    }
   ],
   "source": [
    "# The net total amount of Profit/Losses over the entire period.\n",
    "\n",
    "#record_count = month_pl_count[0]\n",
    "\n",
    "# print(f\"{month_pl_count[0]}\")\n",
    " \n",
    "# \n",
    "pl_total = 0\n",
    "no_of_records = month_pl_count[0]\n",
    "\n",
    "\n",
    "# assign the dates to pnl_dates  and the profit/losses to variavle pnl \n",
    "pnl_dates = company_profit_loss_csv[\"Date\"]\n",
    "pnl = company_profit_loss_csv[\"Profit/Losses\"]\n",
    "\n",
    "\n",
    "# print(pnl)\n",
    "# print(pnl[1])\n",
    "\n",
    "for cnt in range(no_of_records) :\n",
    "    pl_total += pnl[cnt]\n",
    "    \n",
    "    if cnt == (no_of_records - 1) :\n",
    "        # test points. print the last record to confirm its the last record, and print total pnl\n",
    "        print(cnt , pnl[cnt], pl_total)\n",
    "        \n"
   ]
  },
  {
   "cell_type": "code",
   "execution_count": 81,
   "id": "a8ee7b4b-fdba-4a35-b0ac-9d78c26e4ac9",
   "metadata": {},
   "outputs": [
    {
     "name": "stdout",
     "output_type": "stream",
     "text": [
      "-2315.12\n"
     ]
    }
   ],
   "source": [
    "# The average of the changes in Profit/Losses over the entire period.\n",
    "\n",
    "pl_change_total = 0\n",
    "\n",
    "cnt = 0\n",
    "\n",
    "for cnt in range(no_of_records) :\n",
    "    \n",
    "    # pause = input(\"Presss enter to continue\")\n",
    "    \n",
    "    # pl_previous_amount = pnl[cnt]\n",
    "    # pl_amount = pnl[cnt+1]\n",
    "    # pl_change = pl_next_amount - pl_amount\n",
    "    # pl_change_total += pl_change\n",
    "    \n",
    "    # the four lines above have been condensed to this  \n",
    "    if cnt > 0 :\n",
    "\n",
    "        pl_change_total += pnl[cnt] - pnl[cnt-1]\n",
    "   \n",
    "    # print(cnt)\n",
    "    # pl_change_total += pnl[cnt] - 0\n",
    "        \n",
    "    if cnt == 85:\n",
    "        pl_average_of_change = pl_change_total / (no_of_records-1)  # we minus 1 because there are (Number of records)-1 comparisons\n",
    "        # test point print the  pl_average_of_change\n",
    "        print(round(pl_average_of_change,2) )\n",
    "        \n",
    "      \n"
   ]
  },
  {
   "cell_type": "code",
   "execution_count": 83,
   "id": "9b3ad7d7-90f7-498a-bdb4-bec0cd44da87",
   "metadata": {},
   "outputs": [
    {
     "name": "stdout",
     "output_type": "stream",
     "text": [
      "Financial Analysis\n",
      "----------------------------\n",
      "Total Months: 86\n",
      "Total: $38382578\n",
      "Average  Change: $-2315.12\n",
      "Greatest Increase in Profits: Feb-2012 $(1926159)\n",
      "Greatest Decrease in Losses : Sep-2013 $(-2196167)\n"
     ]
    }
   ],
   "source": [
    "# The greatest increase in profits (date and amount) over the entire period.\n",
    "# The greatest decrease in losses (date and amount) over the entire period.\n",
    "\n",
    "max_profit_increase = 0\n",
    "max_losses_decrease = 0\n",
    "cnt = 0\n",
    "last_record_in_loop = no_of_records -1\n",
    "# print(last_record_in_loop)\n",
    "\n",
    "\n",
    "\n",
    "for cnt in range(last_record_in_loop) :\n",
    "\n",
    "     \n",
    "    pl_change = pnl[cnt+1] -pnl[cnt]\n",
    "    \n",
    "    if pl_change > max_profit_increase :\n",
    "        max_profit_increase = pl_change\n",
    "        max_profit_increase_record_no = cnt+1\n",
    "    \n",
    "    elif pl_change < max_losses_decrease :\n",
    "        max_losses_decrease = pl_change\n",
    "        max_losses_decrease_record_no = cnt+1\n",
    "        \n",
    "    \n",
    "    \n",
    "    if cnt == (last_record_in_loop - 1):  # this is minus 1 because in the loop above we were capturing present and next record so we finish one early\n",
    "       \n",
    "        print(f\"Financial Analysis\")\n",
    "        print(f\"----------------------------\")\n",
    "        print(f\"Total Months: {month_pl_count[0]}\")\n",
    "        print(f\"Total: ${pl_total}\")\n",
    "        print(\"Average  Change: $\"+(\"%.2f\" % round(pl_average_of_change,2)))  # this complex formating was to integrate and integer with a string and still leave 2 decimal points\n",
    "        print(f\"Greatest Increase in Profits: {pnl_dates[max_profit_increase_record_no]} $({max_profit_increase})\")\n",
    "        print(f\"Greatest Decrease in Losses : {pnl_dates[max_losses_decrease_record_no]} $({max_losses_decrease})\")"
   ]
  },
  {
   "cell_type": "code",
   "execution_count": null,
   "id": "3e22a601-6b96-4e43-8db2-cbab643745b5",
   "metadata": {},
   "outputs": [],
   "source": []
  }
 ],
 "metadata": {
  "kernelspec": {
   "display_name": "dev",
   "language": "python",
   "name": "dev"
  },
  "language_info": {
   "codemirror_mode": {
    "name": "ipython",
    "version": 3
   },
   "file_extension": ".py",
   "mimetype": "text/x-python",
   "name": "python",
   "nbconvert_exporter": "python",
   "pygments_lexer": "ipython3",
   "version": "3.7.10"
  }
 },
 "nbformat": 4,
 "nbformat_minor": 5
}
