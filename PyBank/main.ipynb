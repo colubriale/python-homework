{
 "cells": [
  {
   "cell_type": "code",
   "execution_count": 41,
   "id": "896a79ca-d103-4ed6-8422-70fca5f65c31",
   "metadata": {},
   "outputs": [
    {
     "name": "stdout",
     "output_type": "stream",
     "text": [
      "4    May-2010\n",
      "Name: Date, dtype: object\n"
     ]
    }
   ],
   "source": [
    "\"\"\" This is the homework plan\n",
    " \n",
    "import required libraries ie path and pandas\n",
    "read the file from the path\n",
    "confirm\n",
    "\n",
    "extract the no of months from the recourd count\n",
    "confirm\n",
    "\n",
    "# create a for loop to totalise the profit/losses\n",
    "\n",
    "\"\"\"\n",
    "# Set the path\n",
    "\n",
    "import pandas as pd\n",
    "from pathlib import Path\n",
    "\n",
    "# Read in the CSV as a DataFrame\n",
    "csv_path = Path(\"budget_data.csv\")\n",
    "\n",
    "company_profit_loss_csv = pd.read_csv(csv_path)\n",
    "\n",
    "# preview data\n",
    "company_profit_loss_csv.head(5)\n",
    "\n",
    "#company_profit_loss_csv.tail(5)\n",
    "# the following are just data extraction test points\n",
    "#print(company_profit_loss_csv.iloc[4:5,[1]])\n",
    "#tmp = company_profit_loss_csv.iloc[4:5,[1]]\n",
    "#print(int(tmp[\"Profit/Losses\"]+1))\n",
    "tmp = company_profit_loss_csv.iloc[4:5,[0]]\n",
    "print(tmp[\"Date\"])"
   ]
  },
  {
   "cell_type": "code",
   "execution_count": 33,
   "id": "61523d24-252e-47c9-ab37-04121174f0e5",
   "metadata": {},
   "outputs": [
    {
     "name": "stdout",
     "output_type": "stream",
     "text": [
      "(86, 2)\n",
      "86\n"
     ]
    }
   ],
   "source": [
    "# The total number of months included in the dataset.\n",
    "\n",
    "month_pnl_count = company_profit_loss_csv.shape\n",
    "\n",
    "print(f\"{month_pnl_count}\")\n",
    "\n",
    "print(f\"{month_pnl_count[0]}\")\n"
   ]
  },
  {
   "cell_type": "code",
   "execution_count": 34,
   "id": "98107b0c-e6bc-4a42-8f7f-e060307f596e",
   "metadata": {},
   "outputs": [
    {
     "name": "stdout",
     "output_type": "stream",
     "text": [
      "85 671099 38382578\n"
     ]
    }
   ],
   "source": [
    "# The net total amount of Profit/Losses over the entire period.\n",
    "\n",
    "#record_count = month_pnl_count[0]\n",
    "\n",
    "# print(f\"{month_pnl_count[0]}\")\n",
    " \n",
    "# \n",
    "pnl_total = 0\n",
    "no_of_records = month_pnl_count[0]\n",
    "\n",
    "\n",
    "# assign the dates to pnl_dates  and the profit/losses to variavle pnl \n",
    "pnl_dates = company_profit_loss_csv[\"Date\"]\n",
    "pnl = company_profit_loss_csv[\"Profit/Losses\"]\n",
    "\n",
    "\n",
    "# print(pnl)\n",
    "# print(pnl[1])\n",
    "\n",
    "for cnt in range(no_of_records) :\n",
    "    pnl_total += pnl[cnt]\n",
    "    \n",
    "    if cnt == (no_of_records - 1) :\n",
    "        # test points. print the last record to confirm its the last record, and print total pnl\n",
    "        print(cnt , pnl[cnt], pnl_total)\n",
    "        \n"
   ]
  },
  {
   "cell_type": "code",
   "execution_count": 35,
   "id": "a8ee7b4b-fdba-4a35-b0ac-9d78c26e4ac9",
   "metadata": {},
   "outputs": [
    {
     "name": "stdout",
     "output_type": "stream",
     "text": [
      "-2315.12\n"
     ]
    }
   ],
   "source": [
    "# The average of the changes in Profit/Losses over the entire period.\n",
    "\n",
    "pnl_change_total = 0\n",
    "\n",
    "cnt = 0\n",
    "\n",
    "for cnt in range(no_of_records) :\n",
    "    \n",
    "    # pause = input(\"Presss enter to continue\")\n",
    "    \n",
    "    # pnl_previous_amount = pnl[cnt]\n",
    "    # pnl_amount = pnl[cnt+1]\n",
    "    # pnl_change = pnl_next_amount - pnl_amount\n",
    "    # pnl_change_total += pnl_change\n",
    "    \n",
    "    # the four lines above have been condensed to this  \n",
    "    if cnt > 0 :\n",
    "\n",
    "        pnl_change_total += pnl[cnt] - pnl[cnt-1]\n",
    "   \n",
    "    # print(cnt)\n",
    "    # pnl_change_total += pnl[cnt] - 0\n",
    "        \n",
    "    if cnt == 85:\n",
    "        pnl_average_of_change = pnl_change_total / (no_of_records-1)  # we minus 1 because there are (Number of records)-1 comparisons\n",
    "        \n",
    "        # assigne and test point print the average_change\n",
    "        average_change = str(round(pnl_average_of_change,2))\n",
    "        print(average_change)\n",
    "        \n",
    "      \n"
   ]
  },
  {
   "cell_type": "code",
   "execution_count": 36,
   "id": "9b3ad7d7-90f7-498a-bdb4-bec0cd44da87",
   "metadata": {},
   "outputs": [
    {
     "name": "stdout",
     "output_type": "stream",
     "text": [
      "Financial Analysis\n",
      "----------------------------\n",
      "Total Months: 86\n",
      "Total: $38382578\n",
      "Average  Change: $-2315.12\n",
      "Greatest Increase in Profits: Feb-2012 $(1926159)\n",
      "Greatest Decrease in Profits: Sep-2013 $(-2196167)\n"
     ]
    }
   ],
   "source": [
    "# The greatest increase in profits (date and amount) over the entire period.\n",
    "# The greatest decrease in losses (date and amount) over the entire period.\n",
    "\n",
    "max_profit_increase = 0\n",
    "max_losses_decrease = 0\n",
    "\n",
    "max_profit_date = \"\"\n",
    "min_profit_date = \"\"\n",
    "\n",
    "cnt = 0\n",
    "last_record_in_loop = no_of_records -1\n",
    "\n",
    "# print(last_record_in_loop)\n",
    "\n",
    "\n",
    "\n",
    "for cnt in range(last_record_in_loop) :\n",
    "\n",
    "     \n",
    "    pnl_change = pnl[cnt+1] -pnl[cnt]\n",
    "    \n",
    "    if pnl_change > max_profit_increase :\n",
    "        max_profit_increase = pnl_change\n",
    "        max_profit_date = pnl_dates[cnt + 1]\n",
    "        \n",
    "    \n",
    "    elif pnl_change < max_losses_decrease :\n",
    "        max_losses_decrease = pnl_change\n",
    "        min_profit_date = pnl_dates[cnt + 1]\n",
    "      \n",
    "    if cnt == (last_record_in_loop - 1):  # this is minus 1 because in the loop above we were capturing present and next record so we finish one early\n",
    "        print(f\"Financial Analysis\")\n",
    "        print(f\"----------------------------\")\n",
    "        print(f\"Total Months: {month_pnl_count[0]}\")\n",
    "        print(f\"Total: ${pl_total}\")\n",
    "        print(\"Average  Change: $\" + average_change)\n",
    "        print(f\"Greatest Increase in Profits: {max_profit_date} $({max_profit_increase})\")\n",
    "        print(f\"Greatest Decrease in Profits: {min_profit_date} $({max_losses_decrease})\")"
   ]
  },
  {
   "cell_type": "code",
   "execution_count": 37,
   "id": "3e22a601-6b96-4e43-8db2-cbab643745b5",
   "metadata": {},
   "outputs": [],
   "source": [
    "# Write updated data to csv file\n",
    "file_write_path = Path(\"output.txt\")\n",
    "output_file = open(file_write_path,\"w\")\n",
    "\n",
    "# use the \\n to move as a carrige return (enter)\n",
    "\n",
    "contents = [\"Financial Analysis\\n\",\n",
    "            \"----------------------------\\n\",  \n",
    "            \"Total Months: \" + str(month_pnl_count[0]) + \"\\n\",\n",
    "            \"Total: $\" + str(pnl_total) + \"\\n\",\n",
    "            \"Average  Change: $\" + average_change  + \"\\n\",\n",
    "            \"Greatest Increase in Profits: \" + max_profit_date + \" $\" + str(max_profit_increase) + \"\\n\",\n",
    "            \"Greatest Decrease in Profits: \" + min_profit_date + \" $\" + str(max_losses_decrease) + \"\\n\" ]\n",
    "\n",
    "output_file.writelines(contents)\n",
    "output_file.close()\n"
   ]
  },
  {
   "cell_type": "code",
   "execution_count": null,
   "id": "a28517d6-1721-4a92-a0d8-8541c6985085",
   "metadata": {},
   "outputs": [],
   "source": []
  }
 ],
 "metadata": {
  "kernelspec": {
   "display_name": "dev",
   "language": "python",
   "name": "dev"
  },
  "language_info": {
   "codemirror_mode": {
    "name": "ipython",
    "version": 3
   },
   "file_extension": ".py",
   "mimetype": "text/x-python",
   "name": "python",
   "nbconvert_exporter": "python",
   "pygments_lexer": "ipython3",
   "version": "3.7.10"
  }
 },
 "nbformat": 4,
 "nbformat_minor": 5
}
