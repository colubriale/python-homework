{
 "cells": [
  {
   "cell_type": "code",
   "execution_count": 67,
   "id": "896a79ca-d103-4ed6-8422-70fca5f65c31",
   "metadata": {},
   "outputs": [
    {
     "data": {
      "text/html": [
       "<div>\n",
       "<style scoped>\n",
       "    .dataframe tbody tr th:only-of-type {\n",
       "        vertical-align: middle;\n",
       "    }\n",
       "\n",
       "    .dataframe tbody tr th {\n",
       "        vertical-align: top;\n",
       "    }\n",
       "\n",
       "    .dataframe thead th {\n",
       "        text-align: right;\n",
       "    }\n",
       "</style>\n",
       "<table border=\"1\" class=\"dataframe\">\n",
       "  <thead>\n",
       "    <tr style=\"text-align: right;\">\n",
       "      <th></th>\n",
       "      <th>Date</th>\n",
       "      <th>Profit/Losses</th>\n",
       "    </tr>\n",
       "  </thead>\n",
       "  <tbody>\n",
       "    <tr>\n",
       "      <th>0</th>\n",
       "      <td>Jan-2010</td>\n",
       "      <td>867884</td>\n",
       "    </tr>\n",
       "    <tr>\n",
       "      <th>1</th>\n",
       "      <td>Feb-2010</td>\n",
       "      <td>984655</td>\n",
       "    </tr>\n",
       "    <tr>\n",
       "      <th>2</th>\n",
       "      <td>Mar-2010</td>\n",
       "      <td>322013</td>\n",
       "    </tr>\n",
       "    <tr>\n",
       "      <th>3</th>\n",
       "      <td>Apr-2010</td>\n",
       "      <td>-69417</td>\n",
       "    </tr>\n",
       "    <tr>\n",
       "      <th>4</th>\n",
       "      <td>May-2010</td>\n",
       "      <td>310503</td>\n",
       "    </tr>\n",
       "  </tbody>\n",
       "</table>\n",
       "</div>"
      ],
      "text/plain": [
       "       Date  Profit/Losses\n",
       "0  Jan-2010         867884\n",
       "1  Feb-2010         984655\n",
       "2  Mar-2010         322013\n",
       "3  Apr-2010         -69417\n",
       "4  May-2010         310503"
      ]
     },
     "execution_count": 67,
     "metadata": {},
     "output_type": "execute_result"
    }
   ],
   "source": [
    "\"\"\" This is the homework plan\n",
    " \n",
    "Import required libraries ie path and pandas\n",
    "Read the file from the path\n",
    "\n",
    "\n",
    "Question 1\n",
    "# Calculate the total number of months included in the dataset.\n",
    "\n",
    "Extract the no of months from the record count.\n",
    "Confirm\n",
    "\n",
    "Question 2\n",
    "# Calculate the net total amount of Profit/Losses over the entire period.\n",
    "\n",
    " Create a for loop to calculate the profit or loss per month and totalise at the same time.\n",
    " ie Calculate total profit and loss by finding the difference between next records pnl value and this records pnl value and adding these up.\n",
    " Confirm\n",
    " \n",
    "Question 3\n",
    "# The average of the changes in Profit/Losses over the entire period.\n",
    "\n",
    " Create a for loop based on the number of records.\n",
    " Start from the second record and compare its pnl value to the previous pnl value. This is the difference.\n",
    " Totalise these differences (change) then divide by the number of recors minus one because there are 1 less comparisons than records.\n",
    " Confirm\n",
    " \n",
    " \n",
    "# Q4 The greatest increase in profits (date and amount) over the entire period.\n",
    "# Q5 The greatest decrease in losses (date and amount) over the entire period ie the greates profit loss\n",
    "\n",
    " Both Q4 and Q5 can be processed at the same time in the same loop\n",
    " Create a for loop based on the number of records\n",
    " For Q4 we # we check if this profit is the biggest positive value by storing the initial pnl profit or loss \n",
    " and comparing if the next one is bigger. If it is bigger then replace this value with the bigger value\n",
    " \n",
    " For Q5 we check if this profit/loss for a loss which is the biggest negative value by storing the initial pnl profit or loss \n",
    " and comparing if the next one is smaller (ie a bigger negative number). If it is smaller then replace this value with the smaller value\n",
    " \n",
    "Task 6\n",
    " # Write updated data to text file with extension .txt\n",
    " \n",
    "  Assign the output file name\n",
    "  Open the empty file in write mode\n",
    "  \n",
    "  Assign each displayed line to a dictionary as only string values, with each entry representing a line\n",
    "  Make sure to use the \\n for a new line as it acts a carrige return (enter)\n",
    "  \n",
    "  Write the entire variable to the file\n",
    "  Close the file\n",
    " \n",
    "\"\"\"\n",
    "# Set the path\n",
    "\n",
    "import pandas as pd\n",
    "from pathlib import Path\n",
    "\n",
    "# Read in the CSV as a DataFrame\n",
    "csv_path = Path(\"budget_data.csv\")\n",
    "\n",
    "company_profit_loss_csv = pd.read_csv(csv_path)\n",
    "\n",
    "# test point to see result, this is not part of the required program but left here for confirmation\n",
    "company_profit_loss_csv.head()\n"
   ]
  },
  {
   "cell_type": "code",
   "execution_count": 68,
   "id": "61523d24-252e-47c9-ab37-04121174f0e5",
   "metadata": {},
   "outputs": [
    {
     "name": "stdout",
     "output_type": "stream",
     "text": [
      "86\n"
     ]
    }
   ],
   "source": [
    "# Q1 Calculate the total number of months included in the dataset.\n",
    "\n",
    "month_pnl = company_profit_loss_csv.shape\n",
    "pnl_month_count = month_pnl_count[0]\n",
    "\n",
    "# test point to see result, this is not part of the required program but left here for confirmation\n",
    "print(f\"{pnl_month_count}\")\n"
   ]
  },
  {
   "cell_type": "code",
   "execution_count": 69,
   "id": "98107b0c-e6bc-4a42-8f7f-e060307f596e",
   "metadata": {},
   "outputs": [
    {
     "name": "stdout",
     "output_type": "stream",
     "text": [
      "85 671099 38382578\n"
     ]
    }
   ],
   "source": [
    "# Q2 Calculate the net total amount of Profit/Losses over the entire period.\n",
    "\n",
    "pnl_total = 0\n",
    "no_of_records = pnl_month_count # we could have skip this step and use pnl_month_count but\n",
    "                                # I just want clarity in the program by assigning a new variable name \n",
    "\n",
    "# assign the dates to pnl_dates and the profit/losses to variavle pnl \n",
    "pnl_dates = company_profit_loss_csv[\"Date\"]\n",
    "pnl_values = company_profit_loss_csv[\"Profit/Losses\"]\n",
    "\n",
    "for cnt in range(no_of_records) :\n",
    "    pnl_total += pnl_values[cnt]\n",
    "    \n",
    "    # test point to see result, this is not part of the required program but left here for confirmation\n",
    "    # Print the cnt to confirm it has processed all records, print last pnl_values record to confirm its the last record, \n",
    "    # and print total pnl\n",
    "    if cnt == (no_of_records - 1) :\n",
    "        print(cnt , pnl_values[cnt], pnl_total)\n",
    "        "
   ]
  },
  {
   "cell_type": "code",
   "execution_count": 70,
   "id": "a8ee7b4b-fdba-4a35-b0ac-9d78c26e4ac9",
   "metadata": {},
   "outputs": [
    {
     "name": "stdout",
     "output_type": "stream",
     "text": [
      "-2315.12\n"
     ]
    }
   ],
   "source": [
    "# Q3 The average of the changes in Profit/Losses over the entire period.\n",
    "\n",
    "pnl_change_total = 0\n",
    "cnt = 0\n",
    "\n",
    "for cnt in range(no_of_records) :\n",
    "    \n",
    "    # we need to skip one record to make the first comparison of a record with the previous record  \n",
    "    if cnt > 0 :\n",
    "        # pnl_previous_amount = pnl_values[cnt-1]\n",
    "        # pnl_amount = pnl_values[cnt]\n",
    "        # pnl_change = pnl_next_amount - pnl_amount\n",
    "        # pnl_change_total += pnl_change\n",
    "       \n",
    "        # the four lines above have been condensed to this\n",
    "        pnl_change_total += pnl_values[cnt] - pnl_values[cnt-1] \n",
    "       \n",
    "    if cnt == (no_of_records - 1):\n",
    "        pnl_average_of_change = pnl_change_total / (no_of_records-1)  # we minus 1 because there are (Number of records)-1 comparisons\n",
    "        \n",
    "        # assign formated value\n",
    "        pnl_average_of_change = str(round(pnl_average_of_change,2))\n",
    "        \n",
    "        # test point to see result, this is not part of the required program but left here for confirmation\n",
    "        print(pnl_average_of_change) \n",
    "        "
   ]
  },
  {
   "cell_type": "code",
   "execution_count": 71,
   "id": "9b3ad7d7-90f7-498a-bdb4-bec0cd44da87",
   "metadata": {},
   "outputs": [
    {
     "name": "stdout",
     "output_type": "stream",
     "text": [
      "Financial Analysis\n",
      "----------------------------\n",
      "Total Months: 86\n",
      "Total: $38382578\n",
      "Average  Change: $-2315.12\n",
      "Greatest Increase in Profits: Feb-2012 $(1926159)\n",
      "Greatest Decrease in Profits: Sep-2013 $(-2196167)\n"
     ]
    }
   ],
   "source": [
    "# Q4 The greatest increase in profits (date and amount) over the entire period.\n",
    "# Q5 The greatest decrease in losses (date and amount) over the entire period. ie the greates profit loss\n",
    "\n",
    "max_profit_increase = 0\n",
    "max_losses_decrease = 0\n",
    "\n",
    "max_profit_date = \"\"\n",
    "min_profit_date = \"\"\n",
    "\n",
    "cnt = 1\n",
    "pnl_change = 0\n",
    "last_record_in_loop = no_of_records -1\n",
    "\n",
    "\n",
    "\n",
    "for cnt in range(last_record_in_loop) :\n",
    "\n",
    "    # we need to skip one record to make the first comparison of a record with the previous record  \n",
    "    if cnt > 0 :\n",
    "       # Change is the difference between this records pnl value and the last records pnl value  \n",
    "       pnl_change = pnl_values[cnt] - pnl_values[cnt - 1]\n",
    "    \n",
    "   \n",
    "    if pnl_change > max_profit_increase :   # we check if this profit is the biggest positive value\n",
    "        max_profit_increase = pnl_change\n",
    "        max_profit_date = pnl_dates[cnt]\n",
    "        \n",
    "    \n",
    "    elif pnl_change < max_losses_decrease :    # we check if this profit is the biggest negative value ie biggest loss\n",
    "        max_losses_decrease = pnl_change\n",
    "        min_profit_date = pnl_dates[cnt]\n",
    "      \n",
    "    if cnt == (last_record_in_loop - 1):  # this is minus 1 because in the loop above we were capturing present and next record so we finish one early\n",
    "        print(f\"Financial Analysis\")\n",
    "        print(f\"----------------------------\")\n",
    "        print(f\"Total Months: {pnl_month_count}\")\n",
    "        print(f\"Total: ${pnl_total}\")\n",
    "        print(\"Average  Change: $\" + pnl_average_of_change)\n",
    "        print(f\"Greatest Increase in Profits: {max_profit_date} $({max_profit_increase})\")\n",
    "        print(f\"Greatest Decrease in Profits: {min_profit_date} $({max_losses_decrease})\")\n",
    "        "
   ]
  },
  {
   "cell_type": "code",
   "execution_count": 72,
   "id": "3e22a601-6b96-4e43-8db2-cbab643745b5",
   "metadata": {},
   "outputs": [],
   "source": [
    "# Write updated data to text file with extension .txt\n",
    "\n",
    "file_write_path = Path(\"output.txt\")\n",
    "output_file = open(file_write_path,\"w\")\n",
    "\n",
    "# assign each output to a dictionary as a only string vales, with each entry representing a line\n",
    "# we use the \\n for a new line as it acts a carrige return (enter)\n",
    "\n",
    "contents = [\"Financial Analysis\\n\",\n",
    "            \"----------------------------\\n\",  \n",
    "            \"Total Months: \" + str(pnl_month_count) + \"\\n\",\n",
    "            \"Total: $\" + str(pnl_total) + \"\\n\",\n",
    "            \"Average  Change: $\" + pnl_average_of_change  + \"\\n\",\n",
    "            \"Greatest Increase in Profits: \" + max_profit_date + \" $\" + str(max_profit_increase) + \"\\n\",\n",
    "            \"Greatest Decrease in Profits: \" + min_profit_date + \" $\" + str(max_losses_decrease) + \"\\n\" ]\n",
    "\n",
    "output_file.writelines(contents)\n",
    "output_file.close()\n"
   ]
  },
  {
   "cell_type": "code",
   "execution_count": null,
   "id": "a28517d6-1721-4a92-a0d8-8541c6985085",
   "metadata": {},
   "outputs": [],
   "source": []
  }
 ],
 "metadata": {
  "kernelspec": {
   "display_name": "dev",
   "language": "python",
   "name": "dev"
  },
  "language_info": {
   "codemirror_mode": {
    "name": "ipython",
    "version": 3
   },
   "file_extension": ".py",
   "mimetype": "text/x-python",
   "name": "python",
   "nbconvert_exporter": "python",
   "pygments_lexer": "ipython3",
   "version": "3.7.10"
  }
 },
 "nbformat": 4,
 "nbformat_minor": 5
}
